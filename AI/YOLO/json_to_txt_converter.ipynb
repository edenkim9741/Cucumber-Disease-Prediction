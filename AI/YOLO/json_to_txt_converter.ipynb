{
 "cells": [
  {
   "cell_type": "code",
   "execution_count": 1,
   "id": "8fe96101-1616-4561-8d5b-aa26ea888ac5",
   "metadata": {},
   "outputs": [],
   "source": [
    "import os\n",
    "import json\n",
    "\n",
    "# 디렉토리 내의 json 파일을 모두 읽어 annotation 파일을 txt로 전환\n",
    "def jsonToTxt(directory_path):\n",
    "    try:\n",
    "        # 디렉토리 내의 모든 파일 및 폴더 목록을 가져옵니다.\n",
    "        file_list = os.listdir(directory_path)\n",
    "    \n",
    "        # 파일 목록을 오름차순으로 정렬합니다.\n",
    "        file_list.sort()\n",
    "        for file_name in file_list:\n",
    "            if file_name.endswith('.json'):\n",
    "                    # 파일의 전체 경로를 생성합니다.\n",
    "                    file_path = os.path.join(directory_path, file_name)\n",
    "                    try:\n",
    "                        # 파일을 열고 JSON 데이터를 딕셔너리로 읽어들입니다.\n",
    "                        with open(file_path, 'r', encoding='utf-8') as f:\n",
    "                            data = json.load(f)\n",
    "                        f.close()\n",
    "                        # --- 여기서부터 읽어들인 데이터(딕셔너리)로 원하는 작업을 수행합니다. ---\n",
    "                        print(f\"성공적으로 읽은 파일: {file_name}\")\n",
    "                \n",
    "                        img_dat = data['description']\n",
    "                        img_ano = data['annotations']\n",
    "                        tmp = img_ano['bbox']\n",
    "                        obj = tmp[0]\n",
    "                        disease_part = img_ano['part']\n",
    "                    \n",
    "                        cla = 0\n",
    "                        data = \"%d %f %f %f %f\\n\" % (cla, (obj['x'] + obj['w'] / 2) / img_dat['width'], (obj['y'] + obj['h'] / 2) / img_dat['height'], (obj['w']) / img_dat['width'], (obj['h']) / img_dat['height'])\n",
    "                        if img_ano['disease'] == 'a4':\n",
    "                            cla = 2\n",
    "                        elif img_ano['disease'] == 'a3':\n",
    "                            cla = 1\n",
    "                    \n",
    "                        for box in disease_part:\n",
    "                            data += \"%d %f %f %f %f\\n\" % (cla, (box['x'] + box['w'] / 2) / img_dat['width'], (box['y'] + box['h'] / 2) / img_dat['height'], (box['w']) / img_dat['width'], (box['h']) / img_dat['height'])\n",
    "\n",
    "                        name = 'E:/cucumber/TL4_cucum_label/norm/' + file_name.replace(\"json\", \"txt\")\n",
    "                        new_ano = open(name, 'x', encoding='utf-8')\n",
    "                        new_ano.write(data)\n",
    "                        new_ano.close()\n",
    "                    # --------------------------------------------------------------------\n",
    "                    except json.JSONDecodeError:\n",
    "                        print(f\"오류: '{file_name}' 파일은 유효한 JSON 형식이 아닙니다.\")\n",
    "                    except Exception as e:\n",
    "                        print(f\"오류: '{file_name}' 파일을 읽는 중 에러 발생 - {e}\")\n",
    "\n",
    "    except FileNotFoundError:\n",
    "        print(f\"오류: '{directory_path}' 디렉토리를 찾을 수 없습니다.\")"
   ]
  }
 ],
 "metadata": {
  "kernelspec": {
   "display_name": "ultra",
   "language": "python",
   "name": "ultra"
  },
  "language_info": {
   "codemirror_mode": {
    "name": "ipython",
    "version": 3
   },
   "file_extension": ".py",
   "mimetype": "text/x-python",
   "name": "python",
   "nbconvert_exporter": "python",
   "pygments_lexer": "ipython3",
   "version": "3.11.13"
  }
 },
 "nbformat": 4,
 "nbformat_minor": 5
}

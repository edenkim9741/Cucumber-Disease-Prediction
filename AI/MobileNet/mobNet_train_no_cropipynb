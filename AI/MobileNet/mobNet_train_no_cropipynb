{
 "cells": [
  {
   "cell_type": "code",
   "execution_count": 1,
   "id": "5a3d7ed8-c8d7-4138-9e85-db28c157a289",
   "metadata": {},
   "outputs": [
    {
     "name": "stdout",
     "output_type": "stream",
     "text": [
      "==================================================\n",
      "GPU 호환성 체크\n",
      "==================================================\n",
      "PyTorch 버전: 2.8.0+cu129\n",
      "CUDA 사용 가능: True\n",
      "CUDA 버전: 12.9\n",
      "GPU 개수: 1\n",
      "GPU 0: NVIDIA GeForce RTX 4070 Ti\n",
      "메모리: 12281 MB\n",
      "현재 디바이스: cuda\n",
      "==================================================\n"
     ]
    }
   ],
   "source": [
    "import os\n",
    "import torch\n",
    "from torch.utils.data import DataLoader\n",
    "from torchvision import transforms, models, datasets # datasets 추가\n",
    "import torch.nn as nn\n",
    "import torch.optim as optim\n",
    "from sklearn.metrics import classification_report, confusion_matrix\n",
    "import numpy as np\n",
    "import matplotlib.pyplot as plt\n",
    "import seaborn as sns\n",
    "import time\n",
    "from tqdm import tqdm\n",
    "\n",
    "# GPU 확인 코드 (추가)\n",
    "print(\"=\"*50)\n",
    "print(\"GPU 호환성 체크\")\n",
    "print(\"=\"*50)\n",
    "print(f\"PyTorch 버전: {torch.__version__}\")\n",
    "print(f\"CUDA 사용 가능: {torch.cuda.is_available()}\")\n",
    "print(f\"CUDA 버전: {torch.version.cuda}\")\n",
    "print(f\"GPU 개수: {torch.cuda.device_count()}\")\n",
    "\n",
    "if torch.cuda.is_available():\n",
    "    for i in range(torch.cuda.device_count()):\n",
    "        print(f\"GPU {i}: {torch.cuda.get_device_name(i)}\")\n",
    "        print(f\"메모리: {torch.cuda.get_device_properties(i).total_memory // 1024**2} MB\")\n",
    "else:\n",
    "    print(\"GPU를 사용할 수 없습니다. CPU 모드로 실행됩니다.\")\n",
    "\n",
    "print(f\"현재 디바이스: {torch.device('cuda' if torch.cuda.is_available() else 'cpu')}\")\n",
    "print(\"=\"*50)"
   ]
  },
  {
   "cell_type": "code",
   "execution_count": 2,
   "id": "04c6486c-ce24-4f57-8fa7-930aa98be089",
   "metadata": {},
   "outputs": [
    {
     "name": "stdout",
     "output_type": "stream",
     "text": [
      "클래스 발견: ['downy', 'healthy', 'powdery']\n",
      "클래스-인덱스 매핑: {'downy': 0, 'healthy': 1, 'powdery': 2}\n"
     ]
    }
   ],
   "source": [
    "# ==============================================================\n",
    "# 1. 경로 및 전처리 설정\n",
    "# ==============================================================\n",
    "\n",
    "# 데이터셋 루트 경로 설정\n",
    "data_dir = \"C:/blooming_AI/classification_dataset\" # 예시 경로입니다. 실제 'dataset' 폴더의 상위 경로로 지정해주세요.\n",
    "train_dir = os.path.join(data_dir, 'train')\n",
    "val_dir = os.path.join(data_dir, 'validation')\n",
    "test_dir = os.path.join(data_dir, 'test')\n",
    "\n",
    "# 이미지 전처리\n",
    "transform = transforms.Compose([\n",
    "    transforms.Resize((224, 224)),\n",
    "    transforms.ToTensor(),\n",
    "    transforms.Normalize(mean=[0.485, 0.456, 0.406], \n",
    "                         std=[0.229, 0.224, 0.225])\n",
    "])\n",
    "\n",
    "# torchvision.datasets.ImageFolder를 사용하여 데이터셋 생성\n",
    "train_dataset = datasets.ImageFolder(train_dir, transform=transform)\n",
    "val_dataset = datasets.ImageFolder(val_dir, transform=transform)\n",
    "test_dataset = datasets.ImageFolder(test_dir, transform=transform)\n",
    "\n",
    "# DataLoader 생성\n",
    "train_loader = DataLoader(train_dataset, batch_size=32, shuffle=True)\n",
    "val_loader = DataLoader(val_dataset, batch_size=32, shuffle=False)\n",
    "test_loader = DataLoader(test_dataset, batch_size=32, shuffle=False)\n",
    "\n",
    "# 클래스 이름은 ImageFolder가 자동으로 폴더명에서 가져옵니다.\n",
    "class_names = train_dataset.classes\n",
    "print(f\"클래스 발견: {class_names}\")\n",
    "print(f\"클래스-인덱스 매핑: {train_dataset.class_to_idx}\")"
   ]
  },
  {
   "cell_type": "code",
   "execution_count": 3,
   "id": "1e6bcbda-e846-4b77-b72c-b612ae417c25",
   "metadata": {},
   "outputs": [
    {
     "name": "stderr",
     "output_type": "stream",
     "text": [
      "C:\\Users\\51100\\anaconda3\\envs\\ultra\\Lib\\site-packages\\torchvision\\models\\_utils.py:208: UserWarning: The parameter 'pretrained' is deprecated since 0.13 and may be removed in the future, please use 'weights' instead.\n",
      "  warnings.warn(\n",
      "C:\\Users\\51100\\anaconda3\\envs\\ultra\\Lib\\site-packages\\torchvision\\models\\_utils.py:223: UserWarning: Arguments other than a weight enum or `None` for 'weights' are deprecated since 0.13 and may be removed in the future. The current behavior is equivalent to passing `weights=MobileNet_V2_Weights.IMAGENET1K_V1`. You can also use `weights=MobileNet_V2_Weights.DEFAULT` to get the most up-to-date weights.\n",
      "  warnings.warn(msg)\n"
     ]
    }
   ],
   "source": [
    "# ==============================================================\n",
    "# 2. 모델 정의\n",
    "# ==============================================================\n",
    "device = torch.device(\"cuda\" if torch.cuda.is_available() else \"cpu\")\n",
    "\n",
    "model = models.mobilenet_v2(pretrained=True)\n",
    "# 출력층의 뉴런 개수를 데이터셋의 클래스 개수에 맞춰 자동으로 설정\n",
    "model.classifier[1] = nn.Linear(model.last_channel, len(class_names))\n",
    "model = model.to(device)\n",
    "\n",
    "criterion = nn.CrossEntropyLoss()\n",
    "optimizer = optim.Adam(model.parameters(), lr=1e-4)"
   ]
  },
  {
   "cell_type": "code",
   "execution_count": 4,
   "id": "b6f6bf9a-d195-4994-9220-5aebda20d677",
   "metadata": {},
   "outputs": [
    {
     "name": "stderr",
     "output_type": "stream",
     "text": [
      "Epoch 1/10 [Train]: 100%|████████████████████████████████████████████████████████████| 886/886 [49:27<00:00,  3.35s/it]\n",
      "Epoch 1/10 [Val  ]: 100%|████████████████████████████████████████████████████████████| 178/178 [10:22<00:00,  3.50s/it]\n"
     ]
    },
    {
     "name": "stdout",
     "output_type": "stream",
     "text": [
      "Epoch 1/10 | Train Loss: 0.0377, Acc: 0.9887 | Val Loss: 0.0035, Acc: 0.9995\n",
      "Epoch 1/10 | Train Loss: 0.0377, Acc: 0.9887 | Val Loss: 0.0035, Acc: 0.9995 | Time: 59m 50s\n"
     ]
    },
    {
     "name": "stderr",
     "output_type": "stream",
     "text": [
      "Epoch 2/10 [Train]: 100%|████████████████████████████████████████████████████████████| 886/886 [51:08<00:00,  3.46s/it]\n",
      "Epoch 2/10 [Val  ]: 100%|████████████████████████████████████████████████████████████| 178/178 [09:48<00:00,  3.31s/it]\n"
     ]
    },
    {
     "name": "stdout",
     "output_type": "stream",
     "text": [
      "Epoch 2/10 | Train Loss: 0.0082, Acc: 0.9974 | Val Loss: 0.0036, Acc: 0.9989\n",
      "Epoch 2/10 | Train Loss: 0.0082, Acc: 0.9974 | Val Loss: 0.0036, Acc: 0.9989 | Time: 60m 57s\n"
     ]
    },
    {
     "name": "stderr",
     "output_type": "stream",
     "text": [
      "Epoch 3/10 [Train]: 100%|████████████████████████████████████████████████████████████| 886/886 [51:24<00:00,  3.48s/it]\n",
      "Epoch 3/10 [Val  ]: 100%|████████████████████████████████████████████████████████████| 178/178 [09:55<00:00,  3.35s/it]\n"
     ]
    },
    {
     "name": "stdout",
     "output_type": "stream",
     "text": [
      "Epoch 3/10 | Train Loss: 0.0078, Acc: 0.9978 | Val Loss: 0.0006, Acc: 1.0000\n",
      "Epoch 3/10 | Train Loss: 0.0078, Acc: 0.9978 | Val Loss: 0.0006, Acc: 1.0000 | Time: 61m 20s\n"
     ]
    },
    {
     "name": "stderr",
     "output_type": "stream",
     "text": [
      "Epoch 4/10 [Train]: 100%|████████████████████████████████████████████████████████████| 886/886 [51:20<00:00,  3.48s/it]\n",
      "Epoch 4/10 [Val  ]: 100%|████████████████████████████████████████████████████████████| 178/178 [09:37<00:00,  3.24s/it]\n"
     ]
    },
    {
     "name": "stdout",
     "output_type": "stream",
     "text": [
      "Epoch 4/10 | Train Loss: 0.0054, Acc: 0.9982 | Val Loss: 0.0011, Acc: 0.9996\n",
      "Epoch 4/10 | Train Loss: 0.0054, Acc: 0.9982 | Val Loss: 0.0011, Acc: 0.9996 | Time: 60m 57s\n"
     ]
    },
    {
     "name": "stderr",
     "output_type": "stream",
     "text": [
      "Epoch 5/10 [Train]: 100%|████████████████████████████████████████████████████████████| 886/886 [50:28<00:00,  3.42s/it]\n",
      "Epoch 5/10 [Val  ]: 100%|████████████████████████████████████████████████████████████| 178/178 [09:48<00:00,  3.30s/it]\n"
     ]
    },
    {
     "name": "stdout",
     "output_type": "stream",
     "text": [
      "Epoch 5/10 | Train Loss: 0.0043, Acc: 0.9988 | Val Loss: 0.0012, Acc: 0.9998\n",
      "Epoch 5/10 | Train Loss: 0.0043, Acc: 0.9988 | Val Loss: 0.0012, Acc: 0.9998 | Time: 60m 16s\n"
     ]
    },
    {
     "name": "stderr",
     "output_type": "stream",
     "text": [
      "Epoch 6/10 [Train]: 100%|████████████████████████████████████████████████████████████| 886/886 [51:04<00:00,  3.46s/it]\n",
      "Epoch 6/10 [Val  ]: 100%|████████████████████████████████████████████████████████████| 178/178 [09:51<00:00,  3.32s/it]\n"
     ]
    },
    {
     "name": "stdout",
     "output_type": "stream",
     "text": [
      "Epoch 6/10 | Train Loss: 0.0020, Acc: 0.9993 | Val Loss: 0.0001, Acc: 1.0000\n",
      "Epoch 6/10 | Train Loss: 0.0020, Acc: 0.9993 | Val Loss: 0.0001, Acc: 1.0000 | Time: 60m 55s\n"
     ]
    },
    {
     "name": "stderr",
     "output_type": "stream",
     "text": [
      "Epoch 7/10 [Train]: 100%|████████████████████████████████████████████████████████████| 886/886 [51:01<00:00,  3.46s/it]\n",
      "Epoch 7/10 [Val  ]: 100%|████████████████████████████████████████████████████████████| 178/178 [09:41<00:00,  3.27s/it]\n"
     ]
    },
    {
     "name": "stdout",
     "output_type": "stream",
     "text": [
      "Epoch 7/10 | Train Loss: 0.0079, Acc: 0.9981 | Val Loss: 0.0007, Acc: 0.9998\n",
      "Epoch 7/10 | Train Loss: 0.0079, Acc: 0.9981 | Val Loss: 0.0007, Acc: 0.9998 | Time: 60m 42s\n"
     ]
    },
    {
     "name": "stderr",
     "output_type": "stream",
     "text": [
      "Epoch 8/10 [Train]: 100%|████████████████████████████████████████████████████████████| 886/886 [50:34<00:00,  3.43s/it]\n",
      "Epoch 8/10 [Val  ]: 100%|████████████████████████████████████████████████████████████| 178/178 [09:46<00:00,  3.30s/it]\n"
     ]
    },
    {
     "name": "stdout",
     "output_type": "stream",
     "text": [
      "Epoch 8/10 | Train Loss: 0.0040, Acc: 0.9989 | Val Loss: 0.0009, Acc: 0.9998\n",
      "Epoch 8/10 | Train Loss: 0.0040, Acc: 0.9989 | Val Loss: 0.0009, Acc: 0.9998 | Time: 60m 21s\n"
     ]
    },
    {
     "name": "stderr",
     "output_type": "stream",
     "text": [
      "Epoch 9/10 [Train]: 100%|████████████████████████████████████████████████████████████| 886/886 [50:47<00:00,  3.44s/it]\n",
      "Epoch 9/10 [Val  ]: 100%|████████████████████████████████████████████████████████████| 178/178 [09:46<00:00,  3.29s/it]\n"
     ]
    },
    {
     "name": "stdout",
     "output_type": "stream",
     "text": [
      "Epoch 9/10 | Train Loss: 0.0020, Acc: 0.9994 | Val Loss: 0.0075, Acc: 0.9966\n",
      "Epoch 9/10 | Train Loss: 0.0020, Acc: 0.9994 | Val Loss: 0.0075, Acc: 0.9966 | Time: 60m 33s\n"
     ]
    },
    {
     "name": "stderr",
     "output_type": "stream",
     "text": [
      "Epoch 10/10 [Train]: 100%|███████████████████████████████████████████████████████████| 886/886 [50:49<00:00,  3.44s/it]\n",
      "Epoch 10/10 [Val  ]: 100%|███████████████████████████████████████████████████████████| 178/178 [09:48<00:00,  3.31s/it]"
     ]
    },
    {
     "name": "stdout",
     "output_type": "stream",
     "text": [
      "Epoch 10/10 | Train Loss: 0.0036, Acc: 0.9989 | Val Loss: 0.0012, Acc: 0.9996\n",
      "Epoch 10/10 | Train Loss: 0.0036, Acc: 0.9989 | Val Loss: 0.0012, Acc: 0.9996 | Time: 60m 38s\n",
      "Training finished. Best Val Acc: 0.9999999999999999\n"
     ]
    },
    {
     "name": "stderr",
     "output_type": "stream",
     "text": [
      "\n"
     ]
    }
   ],
   "source": [
    "# ======================\n",
    "# 3. Training Loop\n",
    "# ======================\n",
    "num_epochs = 10\n",
    "best_val_acc = 0.0\n",
    "\n",
    "for epoch in range(num_epochs):\n",
    "    start_time = time.time()\n",
    "    # --- Train ---\n",
    "    model.train()\n",
    "    running_loss, running_corrects = 0.0, 0\n",
    "    train_pbar = tqdm(train_loader, desc=f\"Epoch {epoch+1}/{num_epochs} [Train]\")\n",
    "    for inputs, labels in train_pbar:\n",
    "        inputs, labels = inputs.to(device), labels.to(device)\n",
    "        optimizer.zero_grad()\n",
    "\n",
    "        outputs = model(inputs)\n",
    "        loss = criterion(outputs, labels)\n",
    "        loss.backward()\n",
    "        optimizer.step()\n",
    "\n",
    "        _, preds = torch.max(outputs, 1)\n",
    "        running_loss += loss.item() * inputs.size(0)\n",
    "        running_corrects += torch.sum(preds == labels.data)\n",
    "\n",
    "    epoch_loss = running_loss / len(train_dataset)\n",
    "    epoch_acc = running_corrects.double() / len(train_dataset)\n",
    "\n",
    "    # --- Validation ---\n",
    "    model.eval()\n",
    "    val_running_loss, val_running_corrects = 0.0, 0\n",
    "    with torch.no_grad():\n",
    "        val_pbar = tqdm(val_loader, desc=f\"Epoch {epoch+1}/{num_epochs} [Val  ]\")\n",
    "        for inputs, labels in val_pbar:\n",
    "            inputs, labels = inputs.to(device), labels.to(device)\n",
    "            outputs = model(inputs)\n",
    "            loss = criterion(outputs, labels)\n",
    "\n",
    "            _, preds = torch.max(outputs, 1)\n",
    "            val_running_loss += loss.item() * inputs.size(0)\n",
    "            val_running_corrects += torch.sum(preds == labels.data)\n",
    "\n",
    "    val_loss = val_running_loss / len(val_dataset)\n",
    "    val_acc = val_running_corrects.double() / len(val_dataset)\n",
    "    end_time = time.time()\n",
    "    epoch_duration = end_time - start_time\n",
    "    minutes = int(epoch_duration // 60)\n",
    "    seconds = int(epoch_duration % 60)\n",
    "    \n",
    "    print(f\"Epoch {epoch+1}/{num_epochs} | \"\n",
    "          f\"Train Loss: {epoch_loss:.4f}, Acc: {epoch_acc:.4f} | \"\n",
    "          f\"Val Loss: {val_loss:.4f}, Acc: {val_acc:.4f}\")\n",
    "    print(f\"Epoch {epoch+1}/{num_epochs} | \"\n",
    "          f\"Train Loss: {epoch_loss:.4f}, Acc: {epoch_acc:.4f} | \"\n",
    "          f\"Val Loss: {val_loss:.4f}, Acc: {val_acc:.4f} | \"\n",
    "          f\"Time: {minutes}m {seconds}s\")\n",
    "    # best 모델 저장\n",
    "    if val_acc > best_val_acc:\n",
    "        best_val_acc = val_acc\n",
    "        torch.save(model.state_dict(), \"best_mobilenet_cucumber.pth\")\n",
    "\n",
    "print(\"Training finished. Best Val Acc:\", best_val_acc.item())"
   ]
  },
  {
   "cell_type": "code",
   "execution_count": 7,
   "id": "74d0fd2c-1b3c-4903-b5c3-bbcb6795ef1c",
   "metadata": {},
   "outputs": [
    {
     "name": "stdout",
     "output_type": "stream",
     "text": [
      "\n",
      "=== Final Evaluation on Test Set ===\n"
     ]
    },
    {
     "name": "stderr",
     "output_type": "stream",
     "text": [
      "Testing on CPU: 100%|████████████████████████████████████████████████████████████████| 178/178 [10:25<00:00,  3.52s/it]"
     ]
    },
    {
     "name": "stdout",
     "output_type": "stream",
     "text": [
      "\n",
      "Total test images: 5666\n",
      "Average inference time per image (CPU): 8.5506 ms\n",
      "\n",
      "Classification Report:\n",
      "              precision    recall  f1-score   support\n",
      "\n",
      "       downy     0.9987    1.0000    0.9994      1557\n",
      "     healthy     1.0000    0.9990    0.9995      2019\n",
      "     powdery     1.0000    1.0000    1.0000      2090\n",
      "\n",
      "    accuracy                         0.9996      5666\n",
      "   macro avg     0.9996    0.9997    0.9996      5666\n",
      "weighted avg     0.9996    0.9996    0.9996      5666\n",
      "\n",
      "Confusion Matrix:\n",
      " [[1557    0    0]\n",
      " [   2 2017    0]\n",
      " [   0    0 2090]]\n"
     ]
    },
    {
     "name": "stderr",
     "output_type": "stream",
     "text": [
      "\n"
     ]
    },
    {
     "data": {
      "image/png": "[encoded data removed]",
      "text/plain": [
       "<Figure size 600x500 with 2 Axes>"
      ]
     },
     "metadata": {},
     "output_type": "display_data"
    }
   ],
   "source": [
    "# ======================\n",
    "# 6. 최종 평가 (Test Set)\n",
    "# ======================\n",
    "print(\"\\n=== Final Evaluation on Test Set ===\")\n",
    "eval_device = torch.device(\"cpu\")\n",
    "model.load_state_dict(torch.load(\"best_mobilenet_cucumber.pth\", map_location=eval_device))\n",
    "model.to(eval_device)\n",
    "model.eval()\n",
    "\n",
    "all_preds = []\n",
    "all_labels = []\n",
    "\n",
    "total_inference_time = 0.0\n",
    "total_images = 0\n",
    "\n",
    "with torch.no_grad():\n",
    "    for inputs, labels in tqdm(test_loader, desc=\"Testing on CPU\"):\n",
    "        # --- 💡 3. 데이터도 CPU로 이동 💡 ---\n",
    "        inputs, labels = inputs.to(eval_device), labels.to(eval_device)\n",
    "\n",
    "        # 시간 측정 시작\n",
    "        start_time = time.time()\n",
    "        outputs = model(inputs) # 모델 추론\n",
    "        end_time = time.time() # 시간 측정 종료\n",
    "\n",
    "        total_inference_time += (end_time - start_time)\n",
    "        total_images += inputs.size(0)\n",
    "\n",
    "        _, preds = torch.max(outputs, 1)\n",
    "        all_preds.extend(preds.cpu().numpy())\n",
    "        all_labels.extend(labels.cpu().numpy())\n",
    "\n",
    "# 평균 추론 시간 계산 및 출력\n",
    "avg_inference_time_ms = (total_inference_time / total_images) * 1000\n",
    "print(f\"\\nTotal test images: {total_images}\")\n",
    "print(f\"Average inference time per image (CPU): {avg_inference_time_ms:.4f} ms\")\n",
    "\n",
    "\n",
    "print(\"\\nClassification Report:\")\n",
    "print(classification_report(all_labels, all_preds, target_names=class_names, digits=4))\n",
    "\n",
    "# Confusion Matrix\n",
    "cm = confusion_matrix(all_labels, all_preds)\n",
    "print(\"Confusion Matrix:\\n\", cm)\n",
    "\n",
    "# ======================\n",
    "# 7. Confusion Matrix 시각화\n",
    "# ======================\n",
    "plt.figure(figsize=(6,5))\n",
    "sns.heatmap(cm, annot=True, fmt=\"d\", cmap=\"Blues\", \n",
    "            xticklabels=class_names, yticklabels=class_names)\n",
    "plt.xlabel(\"Predicted\")\n",
    "plt.ylabel(\"True\")\n",
    "plt.title(\"Confusion Matrix - Cucumber Diseases\")\n",
    "plt.show()"
   ]
  },
  {
   "cell_type": "code",
   "execution_count": null,
   "id": "8b1365ea-c811-4ddb-a9db-a056efe4a2d3",
   "metadata": {},
   "outputs": [],
   "source": []
  }
 ],
 "metadata": {
  "kernelspec": {
   "display_name": "ultra",
   "language": "python",
   "name": "ultra"
  },
  "language_info": {
   "codemirror_mode": {
    "name": "ipython",
    "version": 3
   },
   "file_extension": ".py",
   "mimetype": "text/x-python",
   "name": "python",
   "nbconvert_exporter": "python",
   "pygments_lexer": "ipython3",
   "version": "3.11.13"
  }
 },
 "nbformat": 4,
 "nbformat_minor": 5
}
